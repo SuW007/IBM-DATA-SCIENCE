{
 "cells": [
  {
   "cell_type": "markdown",
   "metadata": {},
   "source": [
    "<h1><center> REPORT  </center></h1>                                                               "
   ]
  },
  {
   "cell_type": "markdown",
   "metadata": {},
   "source": [
    "# I.  Introduction\n",
    "\n",
    "K-Pop has become more and more popular on the global stage after gaining popularity in East Asia. The most representative one is Psy's Gangnam Style, which swept the world as soon as it was released. Together with the expanding of the K-pop, Korean food and culinary traditions are also expanding. According to Korean Culture Center at Canada, \n",
    "\"...\n",
    "After having ranked 4th on the list of hottest ethnic cuisines selected by the National Restaurant Association in 2013, Korean food jumped to second place in 2014. This reflects a change in the perception of Korean cuisine among US locals and a significant increase in the number of their visits to Korean restaurants in the United States in recent years. There are around 5,000 Korean restaurants in the country, with an average annual growth rate of 3.5% between 2011 and 2016.\n",
    "\n",
    "The best-known Korean dish in the United States is kimchi. Its spicy taste and health benefits, such as cancer-fighting effects, have been receiving attention. Roy Choi, a Korean–American chef whose Korean-Mexican kimchi tacos took the United States by storm, made it to the TIME 100 Most Influential People in the World list in 2016.\" So there is a great potential that the Korean culture will be expanding in Canana. \n",
    "\n",
    "Minho Kim, a successful CEO of a restaurant chain in Canada, is planning to take advantage of this trend and open a Korean restaurant chain in Toronto. The questions he hopes that we can give him the answers are:\n",
    "- Location of the first restaurant \n",
    "- Target customers\n",
    "- Menu choice ( type of food, price range etc.)"
   ]
  },
  {
   "cell_type": "markdown",
   "metadata": {},
   "source": [
    "# II. Data \n",
    "\n",
    "Data needed to answer these questions-\n",
    "* Population distribution in Toronto\n",
    "* The income data of the neighbourhood\n",
    "* Potential frequent customers\n",
    "* Neighborhoods in Toronto \n",
    "\n",
    "    ##     Data sources: \n",
    "    \n",
    "- Population & Ethnic Distribution of Each Neighborhood (Toronto Census)\n",
    "- Income Distribution of Each Neighborhood (Toronto Census)\n",
    "  \n",
    "  (https://www.toronto.ca/city-government/data-research-maps/open-data/open-data-catalogue/#8c732154-5012-9afe-d0cd-ba3ffc813d5a.)\n",
    "  \n",
    "- Number of Restaurants in Each Neighborhood (Foursquare API)\n",
    "- Neighborhood data was scraped from the following Wikipedia page:\n",
    "\n",
    "  https://en.wikipedia.org/wiki/List_of_postal_codes_of_Canada:_M "
   ]
  },
  {
   "cell_type": "markdown",
   "metadata": {},
   "source": [
    "# III. Methodology\n",
    "\n",
    "- Korean population dense neiborhood are investigated based on\n",
    "    - Population density\n",
    "    - Home income\n",
    "    - FourSquare Venue data on Restaurant"
   ]
  },
  {
   "cell_type": "markdown",
   "metadata": {},
   "source": [
    "# IV. Results\n",
    "\n",
    "#### * Borough and Population Density"
   ]
  },
  {
   "cell_type": "code",
   "execution_count": 147,
   "metadata": {},
   "outputs": [
    {
     "data": {
      "image/png": "[encoded data removed]",
      "text/plain": [
       "<Figure size 432x288 with 1 Axes>"
      ]
     },
     "metadata": {},
     "output_type": "display_data"
    }
   ],
   "source": [
    "sns.barplot(y='Borough', x='Population density per square kilometre', data=df1)\n",
    "df1=df1.merge(df0, on=['PostalCode','Borough'], how='inner')"
   ]
  },
  {
   "cell_type": "code",
   "execution_count": 148,
   "metadata": {},
   "outputs": [
    {
     "data": {
      "text/html": [
       "<div>\n",
       "<style scoped>\n",
       "    .dataframe tbody tr th:only-of-type {\n",
       "        vertical-align: middle;\n",
       "    }\n",
       "\n",
       "    .dataframe tbody tr th {\n",
       "        vertical-align: top;\n",
       "    }\n",
       "\n",
       "    .dataframe thead th {\n",
       "        text-align: right;\n",
       "    }\n",
       "</style>\n",
       "<table border=\"1\" class=\"dataframe\">\n",
       "  <thead>\n",
       "    <tr style=\"text-align: right;\">\n",
       "      <th></th>\n",
       "      <th>Unnamed: 0_x</th>\n",
       "      <th>PostalCode</th>\n",
       "      <th>Borough</th>\n",
       "      <th>Neighbourhood Number</th>\n",
       "      <th>Population, 2016</th>\n",
       "      <th>Population density per square kilometre</th>\n",
       "      <th>Land area in square kilometres</th>\n",
       "      <th>Total - Household total income groups in 2015</th>\n",
       "      <th>Under $5,000</th>\n",
       "      <th>$5,000 to $9,999</th>\n",
       "      <th>...</th>\n",
       "      <th>Arab</th>\n",
       "      <th>Southeast Asian</th>\n",
       "      <th>West Asian</th>\n",
       "      <th>Korean</th>\n",
       "      <th>Japanese</th>\n",
       "      <th>White</th>\n",
       "      <th>Unnamed: 0_y</th>\n",
       "      <th>Neighbourhood</th>\n",
       "      <th>Latitude</th>\n",
       "      <th>Longitude</th>\n",
       "    </tr>\n",
       "  </thead>\n",
       "  <tbody>\n",
       "    <tr>\n",
       "      <th>0</th>\n",
       "      <td>0</td>\n",
       "      <td>M1B</td>\n",
       "      <td>Scarborough</td>\n",
       "      <td>263.0</td>\n",
       "      <td>90290.0</td>\n",
       "      <td>6208.0</td>\n",
       "      <td>45.74</td>\n",
       "      <td>26825.0</td>\n",
       "      <td>290.0</td>\n",
       "      <td>240.0</td>\n",
       "      <td>...</td>\n",
       "      <td>0.84</td>\n",
       "      <td>0.55</td>\n",
       "      <td>1.32</td>\n",
       "      <td>0.16</td>\n",
       "      <td>0.15</td>\n",
       "      <td>14.64</td>\n",
       "      <td>6</td>\n",
       "      <td>Rouge,Malvern</td>\n",
       "      <td>43.806686</td>\n",
       "      <td>-79.194353</td>\n",
       "    </tr>\n",
       "    <tr>\n",
       "      <th>1</th>\n",
       "      <td>1</td>\n",
       "      <td>M1C</td>\n",
       "      <td>Scarborough</td>\n",
       "      <td>134.0</td>\n",
       "      <td>12494.0</td>\n",
       "      <td>2403.0</td>\n",
       "      <td>5.20</td>\n",
       "      <td>3700.0</td>\n",
       "      <td>60.0</td>\n",
       "      <td>25.0</td>\n",
       "      <td>...</td>\n",
       "      <td>0.68</td>\n",
       "      <td>0.68</td>\n",
       "      <td>0.80</td>\n",
       "      <td>1.04</td>\n",
       "      <td>0.28</td>\n",
       "      <td>25.49</td>\n",
       "      <td>12</td>\n",
       "      <td>Highland Creek,Rouge Hill,Port Union</td>\n",
       "      <td>43.784535</td>\n",
       "      <td>-79.160497</td>\n",
       "    </tr>\n",
       "    <tr>\n",
       "      <th>2</th>\n",
       "      <td>2</td>\n",
       "      <td>M1E</td>\n",
       "      <td>Scarborough</td>\n",
       "      <td>411.0</td>\n",
       "      <td>54764.0</td>\n",
       "      <td>8570.0</td>\n",
       "      <td>19.04</td>\n",
       "      <td>19855.0</td>\n",
       "      <td>315.0</td>\n",
       "      <td>540.0</td>\n",
       "      <td>...</td>\n",
       "      <td>0.50</td>\n",
       "      <td>0.90</td>\n",
       "      <td>1.29</td>\n",
       "      <td>0.37</td>\n",
       "      <td>0.53</td>\n",
       "      <td>43.03</td>\n",
       "      <td>18</td>\n",
       "      <td>Guildwood,Morningside,West Hill</td>\n",
       "      <td>43.763573</td>\n",
       "      <td>-79.188711</td>\n",
       "    </tr>\n",
       "    <tr>\n",
       "      <th>3</th>\n",
       "      <td>3</td>\n",
       "      <td>M1G</td>\n",
       "      <td>Scarborough</td>\n",
       "      <td>137.0</td>\n",
       "      <td>53485.0</td>\n",
       "      <td>4345.0</td>\n",
       "      <td>12.31</td>\n",
       "      <td>18445.0</td>\n",
       "      <td>435.0</td>\n",
       "      <td>455.0</td>\n",
       "      <td>...</td>\n",
       "      <td>1.14</td>\n",
       "      <td>0.59</td>\n",
       "      <td>2.47</td>\n",
       "      <td>0.39</td>\n",
       "      <td>0.19</td>\n",
       "      <td>23.36</td>\n",
       "      <td>22</td>\n",
       "      <td>Woburn</td>\n",
       "      <td>43.770992</td>\n",
       "      <td>-79.216917</td>\n",
       "    </tr>\n",
       "    <tr>\n",
       "      <th>4</th>\n",
       "      <td>4</td>\n",
       "      <td>M1H</td>\n",
       "      <td>Scarborough</td>\n",
       "      <td>127.0</td>\n",
       "      <td>29960.0</td>\n",
       "      <td>4011.0</td>\n",
       "      <td>7.47</td>\n",
       "      <td>10765.0</td>\n",
       "      <td>615.0</td>\n",
       "      <td>220.0</td>\n",
       "      <td>...</td>\n",
       "      <td>1.12</td>\n",
       "      <td>1.03</td>\n",
       "      <td>2.72</td>\n",
       "      <td>0.68</td>\n",
       "      <td>0.52</td>\n",
       "      <td>26.77</td>\n",
       "      <td>26</td>\n",
       "      <td>Cedarbrae</td>\n",
       "      <td>43.773136</td>\n",
       "      <td>-79.239476</td>\n",
       "    </tr>\n",
       "  </tbody>\n",
       "</table>\n",
       "<p>5 rows × 43 columns</p>\n",
       "</div>"
      ],
      "text/plain": [
       "   Unnamed: 0_x PostalCode      Borough  Neighbourhood Number  \\\n",
       "0             0        M1B  Scarborough                 263.0   \n",
       "1             1        M1C  Scarborough                 134.0   \n",
       "2             2        M1E  Scarborough                 411.0   \n",
       "3             3        M1G  Scarborough                 137.0   \n",
       "4             4        M1H  Scarborough                 127.0   \n",
       "\n",
       "   Population, 2016  Population density per square kilometre  \\\n",
       "0           90290.0                                   6208.0   \n",
       "1           12494.0                                   2403.0   \n",
       "2           54764.0                                   8570.0   \n",
       "3           53485.0                                   4345.0   \n",
       "4           29960.0                                   4011.0   \n",
       "\n",
       "   Land area in square kilometres  \\\n",
       "0                           45.74   \n",
       "1                            5.20   \n",
       "2                           19.04   \n",
       "3                           12.31   \n",
       "4                            7.47   \n",
       "\n",
       "   Total - Household total income groups in 2015     Under $5,000  \\\n",
       "0                                         26825.0           290.0   \n",
       "1                                          3700.0            60.0   \n",
       "2                                         19855.0           315.0   \n",
       "3                                         18445.0           435.0   \n",
       "4                                         10765.0           615.0   \n",
       "\n",
       "     $5,000 to $9,999    ...          Arab      Southeast Asian  \\\n",
       "0               240.0    ...          0.84                 0.55   \n",
       "1                25.0    ...          0.68                 0.68   \n",
       "2               540.0    ...          0.50                 0.90   \n",
       "3               455.0    ...          1.14                 0.59   \n",
       "4               220.0    ...          1.12                 1.03   \n",
       "\n",
       "       West Asian      Korean      Japanese  White  Unnamed: 0_y  \\\n",
       "0            1.32        0.16          0.15  14.64             6   \n",
       "1            0.80        1.04          0.28  25.49            12   \n",
       "2            1.29        0.37          0.53  43.03            18   \n",
       "3            2.47        0.39          0.19  23.36            22   \n",
       "4            2.72        0.68          0.52  26.77            26   \n",
       "\n",
       "                          Neighbourhood   Latitude  Longitude  \n",
       "0                         Rouge,Malvern  43.806686 -79.194353  \n",
       "1  Highland Creek,Rouge Hill,Port Union  43.784535 -79.160497  \n",
       "2       Guildwood,Morningside,West Hill  43.763573 -79.188711  \n",
       "3                                Woburn  43.770992 -79.216917  \n",
       "4                             Cedarbrae  43.773136 -79.239476  \n",
       "\n",
       "[5 rows x 43 columns]"
      ]
     },
     "execution_count": 148,
     "metadata": {},
     "output_type": "execute_result"
    }
   ],
   "source": [
    "df1.head()"
   ]
  },
  {
   "cell_type": "markdown",
   "metadata": {},
   "source": [
    "#### * Total House Income"
   ]
  },
  {
   "cell_type": "code",
   "execution_count": 149,
   "metadata": {},
   "outputs": [
    {
     "data": {
      "text/plain": [
       "<matplotlib.axes._subplots.AxesSubplot at 0x28c406be198>"
      ]
     },
     "execution_count": 149,
     "metadata": {},
     "output_type": "execute_result"
    },
    {
     "data": {
      "image/png": "[encoded data removed]",
      "text/plain": [
       "<Figure size 432x288 with 1 Axes>"
      ]
     },
     "metadata": {},
     "output_type": "display_data"
    }
   ],
   "source": [
    "sns.barplot(y='Borough', x='Total - Household total income groups in 2015 ', data=df1)"
   ]
  },
  {
   "cell_type": "markdown",
   "metadata": {},
   "source": [
    "#### * Income Capita and Borough"
   ]
  },
  {
   "cell_type": "code",
   "execution_count": 150,
   "metadata": {},
   "outputs": [
    {
     "data": {
      "text/plain": [
       "<matplotlib.axes._subplots.AxesSubplot at 0x28c3ea07f98>"
      ]
     },
     "execution_count": 150,
     "metadata": {},
     "output_type": "execute_result"
    },
    {
     "data": {
      "image/png": "[encoded data removed]",
      "text/plain": [
       "<Figure size 432x288 with 1 Axes>"
      ]
     },
     "metadata": {},
     "output_type": "display_data"
    }
   ],
   "source": [
    "df1['capi'] = df1['Total - Household total income groups in 2015 '] / df1['Population, 2016']\n",
    "sns.barplot(y='Borough', x='capi', data=df1)"
   ]
  },
  {
   "cell_type": "markdown",
   "metadata": {},
   "source": [
    "#### * Household Median Income and Borough"
   ]
  },
  {
   "cell_type": "code",
   "execution_count": 151,
   "metadata": {},
   "outputs": [
    {
     "data": {
      "text/plain": [
       "<matplotlib.axes._subplots.AxesSubplot at 0x28c3e9a33c8>"
      ]
     },
     "execution_count": 151,
     "metadata": {},
     "output_type": "execute_result"
    },
    {
     "data": {
      "image/png": "[encoded data removed]",
      "text/plain": [
       "<Figure size 432x288 with 1 Axes>"
      ]
     },
     "metadata": {},
     "output_type": "display_data"
    }
   ],
   "source": [
    "Meidan_income_Borough = df1.groupby(['Borough'])['Total - Household total income groups in 2015 ','    Korean'].median()\n",
    "income = pd.DataFrame(Meidan_income_Borough)\n",
    "income = income.rename(columns={\"Total - Household total income groups in 2015 \": \"Median_income\", '    Korean': 'Korean'}).reset_index()\n",
    "income.head()\n",
    "#df1['Borough'].unique()\n",
    "sns.barplot(x='Median_income', y='Borough', data=income)"
   ]
  },
  {
   "cell_type": "markdown",
   "metadata": {},
   "source": [
    "#### * Korean Population Ratio and Borough"
   ]
  },
  {
   "cell_type": "code",
   "execution_count": 152,
   "metadata": {},
   "outputs": [
    {
     "data": {
      "text/plain": [
       "<matplotlib.axes._subplots.AxesSubplot at 0x28c3eff7908>"
      ]
     },
     "execution_count": 152,
     "metadata": {},
     "output_type": "execute_result"
    },
    {
     "data": {
      "image/png": "[encoded data removed]",
      "text/plain": [
       "<Figure size 432x288 with 1 Axes>"
      ]
     },
     "metadata": {},
     "output_type": "display_data"
    }
   ],
   "source": [
    "sns.barplot(x='Korean', y='Borough', data=income)"
   ]
  },
  {
   "cell_type": "code",
   "execution_count": 158,
   "metadata": {},
   "outputs": [
    {
     "data": {
      "text/html": [
       "<div>\n",
       "<style scoped>\n",
       "    .dataframe tbody tr th:only-of-type {\n",
       "        vertical-align: middle;\n",
       "    }\n",
       "\n",
       "    .dataframe tbody tr th {\n",
       "        vertical-align: top;\n",
       "    }\n",
       "\n",
       "    .dataframe thead th {\n",
       "        text-align: right;\n",
       "    }\n",
       "</style>\n",
       "<table border=\"1\" class=\"dataframe\">\n",
       "  <thead>\n",
       "    <tr style=\"text-align: right;\">\n",
       "      <th></th>\n",
       "      <th>Borough</th>\n",
       "      <th>Total - Household total income groups in 2015</th>\n",
       "      <th>Korean</th>\n",
       "    </tr>\n",
       "  </thead>\n",
       "  <tbody>\n",
       "    <tr>\n",
       "      <th>0</th>\n",
       "      <td>Central Toronto</td>\n",
       "      <td>11207.777778</td>\n",
       "      <td>1.317778</td>\n",
       "    </tr>\n",
       "    <tr>\n",
       "      <th>1</th>\n",
       "      <td>Downtown Toronto</td>\n",
       "      <td>13132.500000</td>\n",
       "      <td>1.444167</td>\n",
       "    </tr>\n",
       "    <tr>\n",
       "      <th>2</th>\n",
       "      <td>East Toronto</td>\n",
       "      <td>14381.666667</td>\n",
       "      <td>0.573333</td>\n",
       "    </tr>\n",
       "    <tr>\n",
       "      <th>3</th>\n",
       "      <td>East York</td>\n",
       "      <td>7121.000000</td>\n",
       "      <td>0.744000</td>\n",
       "    </tr>\n",
       "    <tr>\n",
       "      <th>4</th>\n",
       "      <td>Etobicoke</td>\n",
       "      <td>16520.000000</td>\n",
       "      <td>1.542000</td>\n",
       "    </tr>\n",
       "    <tr>\n",
       "      <th>5</th>\n",
       "      <td>Mississauga</td>\n",
       "      <td>5055.000000</td>\n",
       "      <td>0.420000</td>\n",
       "    </tr>\n",
       "    <tr>\n",
       "      <th>6</th>\n",
       "      <td>North York</td>\n",
       "      <td>10755.500000</td>\n",
       "      <td>2.973000</td>\n",
       "    </tr>\n",
       "    <tr>\n",
       "      <th>7</th>\n",
       "      <td>Scarborough</td>\n",
       "      <td>13652.941176</td>\n",
       "      <td>0.415882</td>\n",
       "    </tr>\n",
       "    <tr>\n",
       "      <th>8</th>\n",
       "      <td>West Toronto</td>\n",
       "      <td>14681.666667</td>\n",
       "      <td>0.871667</td>\n",
       "    </tr>\n",
       "    <tr>\n",
       "      <th>9</th>\n",
       "      <td>York</td>\n",
       "      <td>9021.000000</td>\n",
       "      <td>0.536000</td>\n",
       "    </tr>\n",
       "  </tbody>\n",
       "</table>\n",
       "</div>"
      ],
      "text/plain": [
       "            Borough  Total - Household total income groups in 2015   \\\n",
       "0   Central Toronto                                    11207.777778   \n",
       "1  Downtown Toronto                                    13132.500000   \n",
       "2      East Toronto                                    14381.666667   \n",
       "3         East York                                     7121.000000   \n",
       "4         Etobicoke                                    16520.000000   \n",
       "5       Mississauga                                     5055.000000   \n",
       "6        North York                                    10755.500000   \n",
       "7       Scarborough                                    13652.941176   \n",
       "8      West Toronto                                    14681.666667   \n",
       "9              York                                     9021.000000   \n",
       "\n",
       "       Korean  \n",
       "0    1.317778  \n",
       "1    1.444167  \n",
       "2    0.573333  \n",
       "3    0.744000  \n",
       "4    1.542000  \n",
       "5    0.420000  \n",
       "6    2.973000  \n",
       "7    0.415882  \n",
       "8    0.871667  \n",
       "9    0.536000  "
      ]
     },
     "execution_count": 158,
     "metadata": {},
     "output_type": "execute_result"
    }
   ],
   "source": [
    "df1.groupby(['Borough',])['Total - Household total income groups in 2015 ','    Korean'].mean().reset_index()"
   ]
  },
  {
   "cell_type": "code",
   "execution_count": 157,
   "metadata": {},
   "outputs": [
    {
     "data": {
      "text/html": [
       "<div>\n",
       "<style scoped>\n",
       "    .dataframe tbody tr th:only-of-type {\n",
       "        vertical-align: middle;\n",
       "    }\n",
       "\n",
       "    .dataframe tbody tr th {\n",
       "        vertical-align: top;\n",
       "    }\n",
       "\n",
       "    .dataframe thead th {\n",
       "        text-align: right;\n",
       "    }\n",
       "</style>\n",
       "<table border=\"1\" class=\"dataframe\">\n",
       "  <thead>\n",
       "    <tr style=\"text-align: right;\">\n",
       "      <th></th>\n",
       "      <th>Borough</th>\n",
       "      <th>Total - Household total income groups in 2015</th>\n",
       "      <th>Korean</th>\n",
       "    </tr>\n",
       "  </thead>\n",
       "  <tbody>\n",
       "    <tr>\n",
       "      <th>0</th>\n",
       "      <td>Central Toronto</td>\n",
       "      <td>10285.0</td>\n",
       "      <td>1.430</td>\n",
       "    </tr>\n",
       "    <tr>\n",
       "      <th>1</th>\n",
       "      <td>Downtown Toronto</td>\n",
       "      <td>8712.5</td>\n",
       "      <td>1.215</td>\n",
       "    </tr>\n",
       "    <tr>\n",
       "      <th>2</th>\n",
       "      <td>East Toronto</td>\n",
       "      <td>9425.0</td>\n",
       "      <td>0.540</td>\n",
       "    </tr>\n",
       "    <tr>\n",
       "      <th>3</th>\n",
       "      <td>East York</td>\n",
       "      <td>6435.0</td>\n",
       "      <td>0.620</td>\n",
       "    </tr>\n",
       "    <tr>\n",
       "      <th>4</th>\n",
       "      <td>Etobicoke</td>\n",
       "      <td>12175.0</td>\n",
       "      <td>1.220</td>\n",
       "    </tr>\n",
       "    <tr>\n",
       "      <th>5</th>\n",
       "      <td>Mississauga</td>\n",
       "      <td>5055.0</td>\n",
       "      <td>0.420</td>\n",
       "    </tr>\n",
       "    <tr>\n",
       "      <th>6</th>\n",
       "      <td>North York</td>\n",
       "      <td>9067.5</td>\n",
       "      <td>1.540</td>\n",
       "    </tr>\n",
       "    <tr>\n",
       "      <th>7</th>\n",
       "      <td>Scarborough</td>\n",
       "      <td>10105.0</td>\n",
       "      <td>0.370</td>\n",
       "    </tr>\n",
       "    <tr>\n",
       "      <th>8</th>\n",
       "      <td>West Toronto</td>\n",
       "      <td>12825.0</td>\n",
       "      <td>0.880</td>\n",
       "    </tr>\n",
       "    <tr>\n",
       "      <th>9</th>\n",
       "      <td>York</td>\n",
       "      <td>7595.0</td>\n",
       "      <td>0.420</td>\n",
       "    </tr>\n",
       "  </tbody>\n",
       "</table>\n",
       "</div>"
      ],
      "text/plain": [
       "            Borough  Total - Household total income groups in 2015   \\\n",
       "0   Central Toronto                                         10285.0   \n",
       "1  Downtown Toronto                                          8712.5   \n",
       "2      East Toronto                                          9425.0   \n",
       "3         East York                                          6435.0   \n",
       "4         Etobicoke                                         12175.0   \n",
       "5       Mississauga                                          5055.0   \n",
       "6        North York                                          9067.5   \n",
       "7       Scarborough                                         10105.0   \n",
       "8      West Toronto                                         12825.0   \n",
       "9              York                                          7595.0   \n",
       "\n",
       "       Korean  \n",
       "0       1.430  \n",
       "1       1.215  \n",
       "2       0.540  \n",
       "3       0.620  \n",
       "4       1.220  \n",
       "5       0.420  \n",
       "6       1.540  \n",
       "7       0.370  \n",
       "8       0.880  \n",
       "9       0.420  "
      ]
     },
     "execution_count": 157,
     "metadata": {},
     "output_type": "execute_result"
    }
   ],
   "source": [
    "df1.groupby(['Borough',])['Total - Household total income groups in 2015 ','    Korean'].median().reset_index()"
   ]
  },
  {
   "cell_type": "markdown",
   "metadata": {},
   "source": [
    "### Korean Restaurant Popular Neighborhoods\n",
    "\n",
    "    ----Newtonbrook,Willowdale----\n",
    "\n",
    "                         venue  freq\n",
    "               \n",
    "          0  Korean Restaurant   0.4\n",
    "          1    Thai Restaurant   0.2\n",
    "          2        Coffee Shop   0.2\n"
   ]
  },
  {
   "cell_type": "markdown",
   "metadata": {},
   "source": [
    "# V. Discussion\n",
    "\n",
    "- Korean population dense boroughs are 'North York' and 'Central Toronto'\n",
    "- The household income are also in the middle class range\n",
    "- According to FourSquare data, the most popular restaurant venue at neighborhoods of Newtonbrook and Willowdale in 'North York' borough is Korean restaurant"
   ]
  },
  {
   "cell_type": "markdown",
   "metadata": {},
   "source": [
    "# VI. Conclustion\n",
    "- From the observations, Newtonbrook and Willowdale in 'North York' are recommended for the first restaurant of the Korean restaurant chain."
   ]
  },
  {
   "cell_type": "code",
   "execution_count": null,
   "metadata": {},
   "outputs": [],
   "source": []
  }
 ],
 "metadata": {
  "kernelspec": {
   "display_name": "Python 3",
   "language": "python",
   "name": "python3"
  },
  "language_info": {
   "codemirror_mode": {
    "name": "ipython",
    "version": 3
   },
   "file_extension": ".py",
   "mimetype": "text/x-python",
   "name": "python",
   "nbconvert_exporter": "python",
   "pygments_lexer": "ipython3",
   "version": "3.6.5"
  }
 },
 "nbformat": 4,
 "nbformat_minor": 2
}
